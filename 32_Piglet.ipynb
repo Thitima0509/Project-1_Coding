{
  "nbformat": 4,
  "nbformat_minor": 0,
  "metadata": {
    "colab": {
      "provenance": [],
      "authorship_tag": "ABX9TyO7U/o8SIG5o2ONOzxQJcs1",
      "include_colab_link": true
    },
    "kernelspec": {
      "name": "python3",
      "display_name": "Python 3"
    },
    "language_info": {
      "name": "python"
    }
  },
  "cells": [
    {
      "cell_type": "markdown",
      "metadata": {
        "id": "view-in-github",
        "colab_type": "text"
      },
      "source": [
        "<a href=\"https://colab.research.google.com/github/Thitima0509/Project-1_Coding/blob/main/32_Piglet.ipynb\" target=\"_parent\"><img src=\"https://colab.research.google.com/assets/colab-badge.svg\" alt=\"Open In Colab\"/></a>"
      ]
    },
    {
      "cell_type": "markdown",
      "source": [
        "เลขที่ 32 พิกเร็ต ฐิติมา ไกรกลอง\n",
        "No.32 Piglet Thitima Kraiklong"
      ],
      "metadata": {
        "id": "B_XxPZ6ocVzH"
      }
    },
    {
      "cell_type": "markdown",
      "source": [
        "1 กรกฎาคม 2567 การเขียนโค้ดของสูตรพื้นที่สีเหลี่ยม การเคลื่อนที่แนวตรง"
      ],
      "metadata": {
        "id": "po5hvE-9RjUn"
      }
    },
    {
      "cell_type": "code",
      "source": [],
      "metadata": {
        "id": "WLt2u_m7f0aM"
      },
      "execution_count": null,
      "outputs": []
    },
    {
      "cell_type": "code",
      "source": [
        "name = input('กรุณากรอกชื่อผู้ใช้')\n",
        "print('name')\n",
        "weight = float(input('น้ำหนักตัว(กิโลกรัม)คือ'))\n",
        "height = float(input('ส่วนสูง(เมตร)คือ'))\n",
        "bmi = weight/height**2\n",
        "print('ดัชนีมวลกาย เท่ากับ',bmi,'')\n",
        "print('โปรแกรมการหาค่าดัชนีมวลกายจัดทำโดยพิกเร็ต')\n",
        "print(\"ยินดีต้อนรับที่มาใช้บริการ\")"
      ],
      "metadata": {
        "colab": {
          "base_uri": "https://localhost:8080/"
        },
        "id": "b-KMNtZrXvQO",
        "outputId": "ae61e54b-169b-4806-d63a-7ea9ee5a255d"
      },
      "execution_count": null,
      "outputs": [
        {
          "name": "stdout",
          "output_type": "stream",
          "text": [
            "กรุณากรอกชื่อผู้ใช้123\n",
            "name\n",
            "น้ำหนักตัว(กิโลกรัม)คือ74\n"
          ]
        }
      ]
    },
    {
      "cell_type": "code",
      "source": [
        "length = int(input('ความยาวด้าน(ซม.)คือ'))\n",
        "wide = int(input('ความกว้าง(ซม.)คือ'))\n",
        "area = length * wide\n",
        "print('พื้นที่สี่เหลี่ยมผืนผ้า เท่ากับ',area,'ตร.ซม.')"
      ],
      "metadata": {
        "colab": {
          "base_uri": "https://localhost:8080/"
        },
        "id": "dZP0FAIQRiRp",
        "outputId": "a2870765-29b5-4291-e87b-201c173e4a4c"
      },
      "execution_count": null,
      "outputs": [
        {
          "output_type": "stream",
          "name": "stdout",
          "text": [
            "ความยาวด้าน(ซม.)คือ5\n",
            "ความกว้าง(ซม.)คือ20\n",
            "พื้นที่สี่เหลี่ยมผืนผ้า เท่ากับ 100 ตร.ซม.\n"
          ]
        }
      ]
    },
    {
      "cell_type": "code",
      "source": [
        "v = int(input('ระยะทาง(เมตร)คือ'))\n",
        "t = int(input('เวลา(วินาที)คือ'))\n",
        "s = v/t\n",
        "print('ความเร็ว(เมตร/วินาที)มีค่าเท่ากับ',s)"
      ],
      "metadata": {
        "colab": {
          "base_uri": "https://localhost:8080/"
        },
        "id": "DuZpOYWyUmNf",
        "outputId": "3400a1db-3dbd-4e72-ebee-d4a254c2d158"
      },
      "execution_count": null,
      "outputs": [
        {
          "output_type": "stream",
          "name": "stdout",
          "text": [
            "ระยะทาง(เมตร)คือ100\n",
            "เวลา(วินาที)คือ10\n",
            "ความเร็ว(เมตร/วินาที)มีค่าเท่ากับ 10.0\n"
          ]
        }
      ]
    },
    {
      "cell_type": "markdown",
      "source": [
        "26 มิถุนายน 2567 การเขียนโค้ดของสูตรพื้นที่สี่เหลี่ยมจตุรัส"
      ],
      "metadata": {
        "id": "XFZzeBbquPSA"
      }
    },
    {
      "cell_type": "code",
      "source": [
        "name =  input('เธอชื่ออะไร')\n",
        "print('ยินดีที่ได้รู้จัก',name)"
      ],
      "metadata": {
        "colab": {
          "base_uri": "https://localhost:8080/"
        },
        "id": "WA0j65W3vKaQ",
        "outputId": "b6042372-2409-421a-b678-419c8b40f867"
      },
      "execution_count": null,
      "outputs": [
        {
          "output_type": "stream",
          "name": "stdout",
          "text": [
            "เธอชื่ออะไรพิกเร็ต\n",
            "ยินดีที่ได้รู้จัก พิกเร็ต\n"
          ]
        }
      ]
    },
    {
      "cell_type": "code",
      "source": [
        "side = int(input('ความยาวด้าน(ซม.) คือ'))\n",
        "area = side * side\n",
        "print('พื้นที่สี่เหลี่ยม เท่ากับ',area,'ตร.ซม.')"
      ],
      "metadata": {
        "colab": {
          "base_uri": "https://localhost:8080/"
        },
        "id": "ZciMi6jjy-oY",
        "outputId": "c5b3a8ee-1c49-4dbd-fc06-c1633eb26219"
      },
      "execution_count": null,
      "outputs": [
        {
          "output_type": "stream",
          "name": "stdout",
          "text": [
            "ความยาวด้าน(ซม.) คือ5\n",
            "พื้นที่สี่เหลี่ยม เท่ากับ 25 ตร.ซม.\n"
          ]
        }
      ]
    },
    {
      "cell_type": "markdown",
      "source": [
        "20 พฤษภาคม 2567\n",
        " print\n",
        " การพิมพ์ข้อมูล (ใน Colab)\n",
        " data type\n",
        " ชนิดของข้อมูลต่างๆ\n",
        " type\n",
        " ประเภทต่างๆ"
      ],
      "metadata": {
        "id": "qzxG8aS5CHY0"
      }
    },
    {
      "cell_type": "code",
      "execution_count": null,
      "metadata": {
        "id": "ZyhbRa85bAeV",
        "colab": {
          "base_uri": "https://localhost:8080/"
        },
        "outputId": "2f168cd5-1227-4c72-a61a-647b50e9afb9"
      },
      "outputs": [
        {
          "output_type": "stream",
          "name": "stdout",
          "text": [
            "สวัสดีคร่ะ ชื่อพิกเร็ตคร่ะ\n"
          ]
        }
      ],
      "source": [
        "print(\"สวัสดีคร่ะ ชื่อพิกเร็ตคร่ะ\")"
      ]
    },
    {
      "cell_type": "code",
      "source": [
        "a = 2\n",
        "b = 3\n",
        "print(str(a) + \" + \" + str(b) + \" = \" + str(b) + \" + \" + str(a) + \" = \"  + str(a + b))"
      ],
      "metadata": {
        "colab": {
          "base_uri": "https://localhost:8080/"
        },
        "id": "AXseN6F5LiEA",
        "outputId": "6c22d0cc-1ac3-4a49-c269-f1d7070c63f2"
      },
      "execution_count": null,
      "outputs": [
        {
          "output_type": "stream",
          "name": "stdout",
          "text": [
            "2 + 3 = 3 + 2 = 5\n"
          ]
        }
      ]
    },
    {
      "cell_type": "code",
      "source": [
        "a = 2\n",
        "b = 1.5\n",
        "c = \"PIGLET\"\n",
        "\n",
        "type(c)\n",
        "\n",
        "print(\"Program\")"
      ],
      "metadata": {
        "colab": {
          "base_uri": "https://localhost:8080/"
        },
        "id": "wXUeDnJkY159",
        "outputId": "e7451481-2f33-40cd-f450-05ff903b41fc"
      },
      "execution_count": null,
      "outputs": [
        {
          "output_type": "stream",
          "name": "stdout",
          "text": [
            "Program\n"
          ]
        }
      ]
    },
    {
      "cell_type": "markdown",
      "source": [
        "29 พฤษภาคม 2567 รู้จักการพิมพ์ข้อมูลชนิดต่างๆ คำสั่ง type ตัวอักษรที่ใช้ในการเขียนโค้ดเป็นภาษาอังกฤษ และเป็นตัวพิมพ์เล็ก"
      ],
      "metadata": {
        "id": "ZntRwcpQiAsG"
      }
    },
    {
      "cell_type": "code",
      "source": [
        "numeric1 = 5\n",
        "type(numeric1)\n",
        "print(\"ค่าของตัวแปร numeric1 คือ\",numeric1)"
      ],
      "metadata": {
        "colab": {
          "base_uri": "https://localhost:8080/"
        },
        "id": "JUbF9BjJlA8n",
        "outputId": "31351dcb-5e91-42e9-8175-8c1460d129d1"
      },
      "execution_count": null,
      "outputs": [
        {
          "output_type": "stream",
          "name": "stdout",
          "text": [
            "ค่าของตัวแปร numeric1 คือ 5\n"
          ]
        }
      ]
    },
    {
      "cell_type": "markdown",
      "source": [
        "3 พฤษภาคม 2567\n",
        "1.Numeric int จำนวนจริง float จำนวนเต็ม boo คือ true or false\n",
        "ภาษาไพทอนจะเริ่มนับอักษรตัวแรกโดยเริ่มที่ 0 แต่ถ้านับเป็นจำนวนติดลบให้นับตัวสุดท้ายด้วย -1 -2 -3 .......ละลบมาเรื่อยๆ จนถึงตัวแรก ใส่[]"
      ],
      "metadata": {
        "id": "8TnP1D-MWgH-"
      }
    },
    {
      "cell_type": "markdown",
      "source": [
        "input รับข้อมูลที่เราพิมพ์ลงไป\n",
        "process การประมวลผลของโค้ด\n",
        "output แสดงผลออกมา่"
      ],
      "metadata": {
        "id": "3npU1pWjfxSF"
      }
    },
    {
      "cell_type": "code",
      "source": [
        "string1 = 'Python'\n",
        "print(string1[0])"
      ],
      "metadata": {
        "colab": {
          "base_uri": "https://localhost:8080/"
        },
        "id": "i-K7AhFfYHtm",
        "outputId": "fab24f67-0d9b-43ed-adcc-bf83e27a9311"
      },
      "execution_count": null,
      "outputs": [
        {
          "output_type": "stream",
          "name": "stdout",
          "text": [
            "P\n"
          ]
        }
      ]
    }
  ]
}