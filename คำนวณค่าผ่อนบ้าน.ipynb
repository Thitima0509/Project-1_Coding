{
  "nbformat": 4,
  "nbformat_minor": 0,
  "metadata": {
    "colab": {
      "provenance": [],
      "authorship_tag": "ABX9TyM0vmvePwb5cwD7owM0nRsk",
      "include_colab_link": true
    },
    "kernelspec": {
      "name": "python3",
      "display_name": "Python 3"
    },
    "language_info": {
      "name": "python"
    }
  },
  "cells": [
    {
      "cell_type": "markdown",
      "metadata": {
        "id": "view-in-github",
        "colab_type": "text"
      },
      "source": [
        "<a href=\"https://colab.research.google.com/github/Thitima0509/Project-1_Coding/blob/main/%E0%B8%84%E0%B8%B3%E0%B8%99%E0%B8%A7%E0%B8%93%E0%B8%84%E0%B9%88%E0%B8%B2%E0%B8%9C%E0%B9%88%E0%B8%AD%E0%B8%99%E0%B8%9A%E0%B9%89%E0%B8%B2%E0%B8%99.ipynb\" target=\"_parent\"><img src=\"https://colab.research.google.com/assets/colab-badge.svg\" alt=\"Open In Colab\"/></a>"
      ]
    },
    {
      "cell_type": "code",
      "execution_count": 1,
      "metadata": {
        "colab": {
          "base_uri": "https://localhost:8080/"
        },
        "id": "R_cm-p8pbii4",
        "outputId": "f76a631d-1253-447e-c05c-b5de4a2823e2"
      },
      "outputs": [
        {
          "output_type": "stream",
          "name": "stdout",
          "text": [
            "กรุณาใส่ราคาบ้าน (บาท): 2000000\n",
            "กรุณาใส่จำนวนปีที่ผ่อนชำระ: 20\n",
            "กรุณาใส่อัตราดอกเบี้ย (%): 5\n",
            "กรุณาใส่ MRR (%): 0.5\n",
            "กรุณาใส่เงินเดือนของคุณ: 40000\n",
            "ค่างวดที่ต้องจ่ายต่อเดือน: 12,652.99 บาท (สามารถผ่อนได้)\n"
          ]
        }
      ],
      "source": [
        "# ฟังก์ชันคำนวณค่างวดผ่อนบ้าน\n",
        "\n",
        "# ฟังก์ชันคำนวณค่างวดผ่อนบ้าน\n",
        "\n",
        "def calculate_monthly_payment(house_price, mrr, interest_rate, years):\n",
        "    annual_interest_rate = mrr - interest_rate  # คำนวณอัตราดอกเบี้ยที่แท้จริง\n",
        "    months = years * 12  # จำนวนเดือนทั้งหมด\n",
        "    monthly_interest_rate = (annual_interest_rate / 100) / 12  # อัตราดอกเบี้ยรายเดือน\n",
        "\n",
        "    # คำนวณค่างวดผ่อนรายเดือน (M)\n",
        "    M = (house_price * monthly_interest_rate * (1 + monthly_interest_rate) ** months) / \\\n",
        "        ((1 + monthly_interest_rate) ** months - 1)\n",
        "\n",
        "    return M\n",
        "\n",
        "# ฟังก์ชันตรวจสอบวงเงินที่สามารถผ่อนต่อเดือนได้\n",
        "\n",
        "def get_maximum_loan_payment(salary, percentage):\n",
        "    return (salary * percentage) / 100\n",
        "\n",
        "# รับค่าข้อมูลจากผู้ใช้\n",
        "house_price = float(input(\"กรุณาใส่ราคาบ้าน (บาท): \"))\n",
        "years = int(input(\"กรุณาใส่จำนวนปีที่ผ่อนชำระ: \"))\n",
        "mrr = float(input(\"กรุณาใส่อัตราดอกเบี้ย (%): \"))\n",
        "interest_rate = float(input(\"กรุณาใส่ MRR (%): \"))\n",
        "salary = float(input(\"กรุณาใส่เงินเดือนของคุณ: \"))\n",
        "\n",
        "# คำนวณค่างวดที่สามารถผ่อนได้ตามเงินเดือน\n",
        "max_payment_40 = get_maximum_loan_payment(salary, 40)\n",
        "max_payment_20 = get_maximum_loan_payment(salary, 20)\n",
        "\n",
        "# คำนวณค่างวดรายเดือน\n",
        "monthly_payment = calculate_monthly_payment(house_price, mrr, interest_rate, years)\n",
        "\n",
        "# ตรวจสอบระดับความสามารถในการผ่อนชำระ\n",
        "if monthly_payment > max_payment_40:\n",
        "    print(f\"ไม่สามารถผ่อนได้ ค่างวด {monthly_payment:,.2f} บาท สูงเกิน 40% ของเงินเดือนคุณ ({max_payment_40:,.2f} บาท)\")\n",
        "elif max_payment_20 <= monthly_payment <= max_payment_40:\n",
        "    print(f\"ค่างวดที่ต้องจ่ายต่อเดือน: {monthly_payment:,.2f} บาท (สามารถผ่อนได้)\")\n",
        "elif monthly_payment < max_payment_20:\n",
        "    print(f\"ค่างวดที่ต้องจ่ายต่อเดือน: {monthly_payment:,.2f} บาท (สามารถผ่อนได้แบบสบายกระเป๋า)\")\n"
      ]
    }
  ]
}